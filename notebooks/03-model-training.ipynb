{
 "cells": [
  {
   "cell_type": "markdown",
   "id": "26532388",
   "metadata": {},
   "source": [
    "# Final Model Training and Evaluation\n",
    "\n",
    "This notebook performs final model training using the best model selected from model comparison.\n",
    "\n",
    "## Objectives:\n",
    "- Load the best model configuration\n",
    "- Train on the full training dataset\n",
    "- Evaluate on test set\n",
    "- Generate final predictions\n",
    "- Create model performance report\n",
    "- Save final model artifacts"
   ]
  },
  {
   "cell_type": "markdown",
   "id": "c9522a7a",
   "metadata": {},
   "source": [
    "## 1. Import Required Libraries"
   ]
  },
  {
   "cell_type": "code",
   "execution_count": 1,
   "id": "631c877e",
   "metadata": {},
   "outputs": [
    {
     "name": "stdout",
     "output_type": "stream",
     "text": [
      "Libraries imported successfully!\n"
     ]
    }
   ],
   "source": [
    "# Data manipulation\n",
    "import pandas as pd\n",
    "import numpy as np\n",
    "import json\n",
    "import joblib\n",
    "import os\n",
    "from datetime import datetime\n",
    "\n",
    "# Visualization\n",
    "import matplotlib.pyplot as plt\n",
    "import seaborn as sns\n",
    "import plotly.express as px\n",
    "import plotly.graph_objects as go\n",
    "\n",
    "# Machine Learning\n",
    "from sklearn.preprocessing import StandardScaler, LabelEncoder\n",
    "from sklearn.feature_selection import SelectKBest, f_classif\n",
    "from sklearn.model_selection import learning_curve, validation_curve\n",
    "from sklearn.metrics import (\n",
    "    accuracy_score, precision_score, recall_score, f1_score,\n",
    "    classification_report, confusion_matrix, roc_auc_score,\n",
    "    roc_curve, precision_recall_curve\n",
    ")\n",
    "\n",
    "# Model imports (will be loaded based on metadata)\n",
    "from sklearn.ensemble import RandomForestClassifier, GradientBoostingClassifier\n",
    "from sklearn.linear_model import LogisticRegression\n",
    "from sklearn.svm import SVC\n",
    "import xgboost as xgb\n",
    "import lightgbm as lgb\n",
    "\n",
    "# Utilities\n",
    "import warnings\n",
    "warnings.filterwarnings('ignore')\n",
    "\n",
    "print(\"Libraries imported successfully!\")"
   ]
  },
  {
   "cell_type": "markdown",
   "id": "60461dac",
   "metadata": {},
   "source": [
    "## 2. Load Data and Previous Results"
   ]
  },
  {
   "cell_type": "code",
   "execution_count": 2,
   "id": "30ac5276",
   "metadata": {},
   "outputs": [
    {
     "name": "stdout",
     "output_type": "stream",
     "text": [
      "Training data shape: (159, 22036)\n",
      "Training labels shape: (159, 1)\n",
      "Test data shape: (39, 22036)\n",
      "Target column: 0\n"
     ]
    }
   ],
   "source": [
    "# Load datasets\n",
    "train_data = pd.read_csv('../data/raw/train_data.csv')\n",
    "train_labels = pd.read_csv('../data/raw/train_labels.csv')\n",
    "test_data = pd.read_csv('../data/raw/test_data.csv')\n",
    "\n",
    "print(f\"Training data shape: {train_data.shape}\")\n",
    "print(f\"Training labels shape: {train_labels.shape}\")\n",
    "print(f\"Test data shape: {test_data.shape}\")\n",
    "\n",
    "# Get target column\n",
    "target_column = train_labels.columns[-1]\n",
    "print(f\"Target column: {target_column}\")"
   ]
  },
  {
   "cell_type": "code",
   "execution_count": 3,
   "id": "99eb1129",
   "metadata": {},
   "outputs": [
    {
     "name": "stdout",
     "output_type": "stream",
     "text": [
      "Loaded model metadata:\n",
      "- Best model: Logistic Regression\n",
      "- Model type: LogisticRegression\n",
      "- Validation accuracy: 0.7500\n",
      "- Features used: 1000\n"
     ]
    }
   ],
   "source": [
    "# Load model metadata from previous selection\n",
    "try:\n",
    "    with open('../models/model_metadata.json', 'r') as f:\n",
    "        model_metadata = json.load(f)\n",
    "    \n",
    "    print(\"Loaded model metadata:\")\n",
    "    print(f\"- Best model: {model_metadata['model_name']}\")\n",
    "    print(f\"- Model type: {model_metadata['model_type']}\")\n",
    "    print(f\"- Validation accuracy: {model_metadata['validation_accuracy']:.4f}\")\n",
    "    print(f\"- Features used: {model_metadata['features_used']}\")\n",
    "    \n",
    "except FileNotFoundError:\n",
    "    print(\"No model metadata found. Please run model selection notebook first.\")\n",
    "    model_metadata = None"
   ]
  },
  {
   "cell_type": "code",
   "execution_count": 4,
   "id": "a36b9315",
   "metadata": {},
   "outputs": [
    {
     "name": "stdout",
     "output_type": "stream",
     "text": [
      "Loaded problematic features info\n"
     ]
    }
   ],
   "source": [
    "# Load problematic features if available\n",
    "try:\n",
    "    with open('../data/processed/problematic_features.json', 'r') as f:\n",
    "        problematic_features = json.load(f)\n",
    "    print(f\"Loaded problematic features info\")\n",
    "except FileNotFoundError:\n",
    "    print(\"No problematic features file found\")\n",
    "    problematic_features = {'constant_features': [], 'low_variance_features': []}"
   ]
  },
  {
   "cell_type": "markdown",
   "id": "50abd830",
   "metadata": {},
   "source": [
    "## 3. Data Preprocessing (Consistent with Model Selection)"
   ]
  },
  {
   "cell_type": "code",
   "execution_count": 5,
   "id": "4fdaa059",
   "metadata": {},
   "outputs": [
    {
     "name": "stdout",
     "output_type": "stream",
     "text": [
      "Column alignment fixed using positional mapping.\n",
      "Features after cleaning: 22036\n",
      "Training samples: 159\n",
      "Test samples: 39\n"
     ]
    }
   ],
   "source": [
    "# Apply same preprocessing as in model selection\n",
    "features_to_remove = set(\n",
    "    problematic_features.get('constant_features', []) + \n",
    "    problematic_features.get('low_variance_features', [])\n",
    ")\n",
    "\n",
    "# Handle column alignment between train and test data\n",
    "# Check if column names match\n",
    "train_cols = set(train_data.columns)\n",
    "test_cols = set(test_data.columns)\n",
    "common_cols = train_cols.intersection(test_cols)\n",
    "\n",
    "if len(common_cols) == 0:\n",
    "    # Column names are different - use positional mapping\n",
    "    min_cols = min(len(train_data.columns), len(test_data.columns))\n",
    "    new_col_names = [f\"feature_{i:04d}\" for i in range(min_cols)]\n",
    "    \n",
    "    # Rename columns to ensure consistency\n",
    "    train_data = train_data.iloc[:, :min_cols].copy()\n",
    "    test_data = test_data.iloc[:, :min_cols].copy()\n",
    "    train_data.columns = new_col_names\n",
    "    test_data.columns = new_col_names\n",
    "    \n",
    "    print(\"Column alignment fixed using positional mapping.\")\n",
    "\n",
    "# Use all features minus problematic ones\n",
    "good_features = [col for col in train_data.columns if col not in features_to_remove]\n",
    "\n",
    "# Prepare training data\n",
    "X_full = train_data[good_features].copy()\n",
    "y_full = train_labels[target_column].copy()\n",
    "\n",
    "# Prepare test data with same features\n",
    "X_test = test_data[good_features].copy()\n",
    "\n",
    "print(f\"Features after cleaning: {X_full.shape[1]}\")\n",
    "print(f\"Training samples: {X_full.shape[0]}\")\n",
    "print(f\"Test samples: {X_test.shape[0]}\")\n",
    "\n",
    "# Handle missing values\n",
    "if X_full.isnull().sum().sum() > 0:\n",
    "    print(\"Filling missing values...\")\n",
    "    X_full = X_full.fillna(X_full.median())\n",
    "    X_test = X_test.fillna(X_full.median())  # Use training median for test\n",
    "\n",
    "# Encode target if needed\n",
    "le = LabelEncoder()\n",
    "if y_full.dtype == 'object':\n",
    "    y_encoded = le.fit_transform(y_full)\n",
    "    print(f\"Target encoded: {dict(zip(le.classes_, range(len(le.classes_))))}\")\n",
    "else:\n",
    "    y_encoded = y_full.values\n",
    "    le = None"
   ]
  },
  {
   "cell_type": "markdown",
   "id": "ee350710",
   "metadata": {},
   "source": [
    "## 4. Feature Scaling and Selection"
   ]
  },
  {
   "cell_type": "code",
   "execution_count": 6,
   "id": "474f27a5",
   "metadata": {},
   "outputs": [
    {
     "name": "stdout",
     "output_type": "stream",
     "text": [
      "Feature scaling completed\n",
      "Selected 1000 features for training\n",
      "Final training shape: (159, 1000)\n",
      "Final test shape: (39, 1000)\n"
     ]
    }
   ],
   "source": [
    "# Scale features\n",
    "scaler = StandardScaler()\n",
    "X_scaled = scaler.fit_transform(X_full)\n",
    "X_test_scaled = scaler.transform(X_test)\n",
    "\n",
    "print(f\"Feature scaling completed\")\n",
    "\n",
    "# Feature selection (use same number as in model selection)\n",
    "if model_metadata:\n",
    "    k_features = model_metadata['features_used']\n",
    "else:\n",
    "    k_features = min(1000, X_scaled.shape[1])\n",
    "\n",
    "selector = SelectKBest(score_func=f_classif, k=k_features)\n",
    "X_selected = selector.fit_transform(X_scaled, y_encoded) #type: ignore\n",
    "X_test_selected = selector.transform(X_test_scaled)\n",
    "\n",
    "selected_features = X_full.columns[selector.get_support()]\n",
    "print(f\"Selected {k_features} features for training\")\n",
    "print(f\"Final training shape: {X_selected.shape}\")\n",
    "print(f\"Final test shape: {X_test_selected.shape}\")"
   ]
  },
  {
   "cell_type": "markdown",
   "id": "adb04a61",
   "metadata": {},
   "source": [
    "## 5. Load or Create Final Model"
   ]
  },
  {
   "cell_type": "code",
   "execution_count": 7,
   "id": "ee768876",
   "metadata": {},
   "outputs": [
    {
     "name": "stdout",
     "output_type": "stream",
     "text": [
      "Loaded saved model: Logistic Regression\n",
      "Model parameters: {'C': 1, 'class_weight': None, 'dual': False, 'fit_intercept': True, 'intercept_scaling': 1, 'l1_ratio': None, 'max_iter': 1000, 'multi_class': 'deprecated', 'n_jobs': None, 'penalty': 'l2', 'random_state': 42, 'solver': 'liblinear', 'tol': 0.0001, 'verbose': 0, 'warm_start': False}\n"
     ]
    }
   ],
   "source": [
    "# Try to load the best model from model selection\n",
    "if model_metadata:\n",
    "    model_name = model_metadata['model_name']\n",
    "    model_file = f\"../models/best_model_{model_name.lower().replace(' ', '_')}.pkl\"\n",
    "    \n",
    "    try:\n",
    "        best_model = joblib.load(model_file)\n",
    "        print(f\"Loaded saved model: {model_name}\")\n",
    "        print(f\"Model parameters: {best_model.get_params()}\")\n",
    "        \n",
    "    except FileNotFoundError:\n",
    "        print(f\"Saved model not found. Creating new {model_name} with best parameters.\")\n",
    "        \n",
    "        # Create model with best hyperparameters from metadata\n",
    "        if model_metadata['model_type'] == 'RandomForestClassifier':\n",
    "            best_model = RandomForestClassifier(**model_metadata['hyperparameters'])\n",
    "        elif model_metadata['model_type'] == 'XGBClassifier':\n",
    "            best_model = xgb.XGBClassifier(**model_metadata['hyperparameters'])\n",
    "        elif model_metadata['model_type'] == 'LGBMClassifier':\n",
    "            best_model = lgb.LGBMClassifier(**model_metadata['hyperparameters'])\n",
    "        elif model_metadata['model_type'] == 'LogisticRegression':\n",
    "            best_model = LogisticRegression(**model_metadata['hyperparameters'])\n",
    "        else:\n",
    "            print(f\"Unknown model type: {model_metadata['model_type']}\")\n",
    "            best_model = RandomForestClassifier(random_state=42)\n",
    "            \n",
    "else:\n",
    "    print(\"No model metadata available. Using default RandomForest.\")\n",
    "    best_model = RandomForestClassifier(n_estimators=200, random_state=42)\n",
    "    model_name = \"Random Forest (Default)\""
   ]
  },
  {
   "cell_type": "markdown",
   "id": "93e16b14",
   "metadata": {},
   "source": [
    "## 6. Final Model Training"
   ]
  },
  {
   "cell_type": "code",
   "execution_count": 8,
   "id": "261034e9",
   "metadata": {},
   "outputs": [
    {
     "name": "stdout",
     "output_type": "stream",
     "text": [
      "Training final model: LogisticRegression\n",
      "Training on 159 samples with 1000 features\n",
      "Training completed in: 0:00:00.064464\n",
      "Model trained successfully!\n"
     ]
    }
   ],
   "source": [
    "print(f\"Training final model: {type(best_model).__name__}\")\n",
    "print(f\"Training on {X_selected.shape[0]} samples with {X_selected.shape[1]} features\")\n",
    "\n",
    "# Train the model\n",
    "start_time = datetime.now()\n",
    "best_model.fit(X_selected, y_encoded) #type: ignore\n",
    "training_time = datetime.now() - start_time\n",
    "\n",
    "print(f\"Training completed in: {training_time}\")\n",
    "print(f\"Model trained successfully!\")"
   ]
  },
  {
   "cell_type": "markdown",
   "id": "add6c5e2",
   "metadata": {},
   "source": [
    "## 7. Learning Curves Analysis"
   ]
  },
  {
   "cell_type": "code",
   "execution_count": 9,
   "id": "cd55222e",
   "metadata": {},
   "outputs": [
    {
     "name": "stdout",
     "output_type": "stream",
     "text": [
      "Generating learning curves...\n"
     ]
    },
    {
     "data": {
      "image/png": "[encoded data removed]",
      "text/plain": [
       "<Figure size 1200x800 with 1 Axes>"
      ]
     },
     "metadata": {},
     "output_type": "display_data"
    },
    {
     "name": "stdout",
     "output_type": "stream",
     "text": [
      "Final training accuracy: 1.0000 (+/- 0.0000)\n",
      "Final validation accuracy: 0.8117 (+/- 0.0328)\n"
     ]
    }
   ],
   "source": [
    "# Generate learning curves\n",
    "print(\"Generating learning curves...\")\n",
    "\n",
    "train_sizes = np.linspace(0.1, 1.0, 10)\n",
    "train_sizes_abs, train_scores, val_scores = learning_curve( #type: ignore\n",
    "    best_model, X_selected, y_encoded, #type: ignore\n",
    "    train_sizes=train_sizes, cv=5, scoring='accuracy',\n",
    "    random_state=42, n_jobs=-1\n",
    ")\n",
    "\n",
    "# Calculate means and stds\n",
    "train_mean = np.mean(train_scores, axis=1)\n",
    "train_std = np.std(train_scores, axis=1)\n",
    "val_mean = np.mean(val_scores, axis=1)\n",
    "val_std = np.std(val_scores, axis=1)\n",
    "\n",
    "# Plot learning curves\n",
    "plt.figure(figsize=(12, 8))\n",
    "plt.plot(train_sizes_abs, train_mean, 'o-', color='blue', label='Training Accuracy')\n",
    "plt.fill_between(train_sizes_abs, train_mean - train_std, train_mean + train_std, alpha=0.1, color='blue')\n",
    "\n",
    "plt.plot(train_sizes_abs, val_mean, 'o-', color='red', label='Validation Accuracy')\n",
    "plt.fill_between(train_sizes_abs, val_mean - val_std, val_mean + val_std, alpha=0.1, color='red')\n",
    "\n",
    "plt.xlabel('Training Set Size')\n",
    "plt.ylabel('Accuracy Score')\n",
    "plt.title(f'Learning Curves - {type(best_model).__name__}')\n",
    "plt.legend()\n",
    "plt.grid(True, alpha=0.3)\n",
    "plt.tight_layout()\n",
    "plt.show()\n",
    "\n",
    "print(f\"Final training accuracy: {train_mean[-1]:.4f} (+/- {train_std[-1]:.4f})\")\n",
    "print(f\"Final validation accuracy: {val_mean[-1]:.4f} (+/- {val_std[-1]:.4f})\")"
   ]
  },
  {
   "cell_type": "markdown",
   "id": "89a97fec",
   "metadata": {},
   "source": [
    "## 8. Feature Importance Analysis"
   ]
  },
  {
   "cell_type": "code",
   "execution_count": 10,
   "id": "837adb0f",
   "metadata": {},
   "outputs": [
    {
     "name": "stdout",
     "output_type": "stream",
     "text": [
      "Feature importance not available for LogisticRegression\n"
     ]
    }
   ],
   "source": [
    "# Feature importance analysis\n",
    "if hasattr(best_model, 'feature_importances_'):\n",
    "    feature_importance = pd.DataFrame({\n",
    "        'feature': selected_features,\n",
    "        'importance': best_model.feature_importances_ #type: ignore\n",
    "    }).sort_values('importance', ascending=False)\n",
    "    \n",
    "    # Save feature importance\n",
    "    feature_importance.to_csv('../data/processed/final_feature_importance.csv', index=False)\n",
    "    \n",
    "    # Plot top 20 features\n",
    "    plt.figure(figsize=(12, 10))\n",
    "    top_20_features = feature_importance.head(20)\n",
    "    plt.barh(range(len(top_20_features)), top_20_features['importance'])\n",
    "    plt.yticks(range(len(top_20_features)), top_20_features['feature']) #type: ignore\n",
    "    plt.xlabel('Feature Importance')\n",
    "    plt.title(f'Top 20 Feature Importances - {type(best_model).__name__}')\n",
    "    plt.gca().invert_yaxis()\n",
    "    plt.tight_layout()\n",
    "    plt.show()\n",
    "    \n",
    "    print(\"Top 10 most important features:\")\n",
    "    display(feature_importance.head(10))\n",
    "    \n",
    "    # Feature importance statistics\n",
    "    print(f\"\\nFeature importance statistics:\")\n",
    "    print(f\"Mean importance: {feature_importance['importance'].mean():.6f}\")\n",
    "    print(f\"Std importance: {feature_importance['importance'].std():.6f}\")\n",
    "    print(f\"Max importance: {feature_importance['importance'].max():.6f}\")\n",
    "    print(f\"Min importance: {feature_importance['importance'].min():.6f}\")\n",
    "    \n",
    "else:\n",
    "    print(f\"Feature importance not available for {type(best_model).__name__}\")\n",
    "    feature_importance = None"
   ]
  },
  {
   "cell_type": "markdown",
   "id": "fb0af33f",
   "metadata": {},
   "source": [
    "## 9. Generate Test Predictions"
   ]
  },
  {
   "cell_type": "code",
   "execution_count": 11,
   "id": "460ce81d",
   "metadata": {},
   "outputs": [
    {
     "name": "stdout",
     "output_type": "stream",
     "text": [
      "Generating predictions on test set...\n",
      "Generated predictions for 39 test samples\n",
      "Prediction distribution:\n",
      "predicted_class\n",
      "3    11\n",
      "0    11\n",
      "1     7\n",
      "2     5\n",
      "4     5\n",
      "Name: count, dtype: int64\n"
     ]
    },
    {
     "data": {
      "text/html": [
       "<div>\n",
       "<style scoped>\n",
       "    .dataframe tbody tr th:only-of-type {\n",
       "        vertical-align: middle;\n",
       "    }\n",
       "\n",
       "    .dataframe tbody tr th {\n",
       "        vertical-align: top;\n",
       "    }\n",
       "\n",
       "    .dataframe thead th {\n",
       "        text-align: right;\n",
       "    }\n",
       "</style>\n",
       "<table border=\"1\" class=\"dataframe\">\n",
       "  <thead>\n",
       "    <tr style=\"text-align: right;\">\n",
       "      <th></th>\n",
       "      <th>sample_id</th>\n",
       "      <th>predicted_class</th>\n",
       "      <th>prob_class_0</th>\n",
       "      <th>prob_class_1</th>\n",
       "      <th>prob_class_2</th>\n",
       "      <th>prob_class_3</th>\n",
       "      <th>prob_class_4</th>\n",
       "    </tr>\n",
       "  </thead>\n",
       "  <tbody>\n",
       "    <tr>\n",
       "      <th>0</th>\n",
       "      <td>0</td>\n",
       "      <td>3</td>\n",
       "      <td>0.337735</td>\n",
       "      <td>0.000206</td>\n",
       "      <td>0.000084</td>\n",
       "      <td>0.394489</td>\n",
       "      <td>0.267486</td>\n",
       "    </tr>\n",
       "    <tr>\n",
       "      <th>1</th>\n",
       "      <td>1</td>\n",
       "      <td>2</td>\n",
       "      <td>0.004131</td>\n",
       "      <td>0.311863</td>\n",
       "      <td>0.523216</td>\n",
       "      <td>0.007054</td>\n",
       "      <td>0.153736</td>\n",
       "    </tr>\n",
       "    <tr>\n",
       "      <th>2</th>\n",
       "      <td>2</td>\n",
       "      <td>0</td>\n",
       "      <td>0.948534</td>\n",
       "      <td>0.030769</td>\n",
       "      <td>0.015206</td>\n",
       "      <td>0.001268</td>\n",
       "      <td>0.004223</td>\n",
       "    </tr>\n",
       "    <tr>\n",
       "      <th>3</th>\n",
       "      <td>3</td>\n",
       "      <td>0</td>\n",
       "      <td>0.807632</td>\n",
       "      <td>0.003649</td>\n",
       "      <td>0.005369</td>\n",
       "      <td>0.147639</td>\n",
       "      <td>0.035711</td>\n",
       "    </tr>\n",
       "    <tr>\n",
       "      <th>4</th>\n",
       "      <td>4</td>\n",
       "      <td>2</td>\n",
       "      <td>0.012055</td>\n",
       "      <td>0.000238</td>\n",
       "      <td>0.765452</td>\n",
       "      <td>0.119053</td>\n",
       "      <td>0.103202</td>\n",
       "    </tr>\n",
       "    <tr>\n",
       "      <th>5</th>\n",
       "      <td>5</td>\n",
       "      <td>1</td>\n",
       "      <td>0.068144</td>\n",
       "      <td>0.391535</td>\n",
       "      <td>0.355511</td>\n",
       "      <td>0.184637</td>\n",
       "      <td>0.000173</td>\n",
       "    </tr>\n",
       "    <tr>\n",
       "      <th>6</th>\n",
       "      <td>6</td>\n",
       "      <td>3</td>\n",
       "      <td>0.044360</td>\n",
       "      <td>0.293036</td>\n",
       "      <td>0.010861</td>\n",
       "      <td>0.647718</td>\n",
       "      <td>0.004026</td>\n",
       "    </tr>\n",
       "    <tr>\n",
       "      <th>7</th>\n",
       "      <td>7</td>\n",
       "      <td>4</td>\n",
       "      <td>0.038288</td>\n",
       "      <td>0.001806</td>\n",
       "      <td>0.005622</td>\n",
       "      <td>0.158429</td>\n",
       "      <td>0.795854</td>\n",
       "    </tr>\n",
       "    <tr>\n",
       "      <th>8</th>\n",
       "      <td>8</td>\n",
       "      <td>0</td>\n",
       "      <td>0.747630</td>\n",
       "      <td>0.000751</td>\n",
       "      <td>0.001381</td>\n",
       "      <td>0.012341</td>\n",
       "      <td>0.237897</td>\n",
       "    </tr>\n",
       "    <tr>\n",
       "      <th>9</th>\n",
       "      <td>9</td>\n",
       "      <td>4</td>\n",
       "      <td>0.092427</td>\n",
       "      <td>0.048432</td>\n",
       "      <td>0.077133</td>\n",
       "      <td>0.054175</td>\n",
       "      <td>0.727834</td>\n",
       "    </tr>\n",
       "  </tbody>\n",
       "</table>\n",
       "</div>"
      ],
      "text/plain": [
       "   sample_id  predicted_class  prob_class_0  prob_class_1  prob_class_2  \\\n",
       "0          0                3      0.337735      0.000206      0.000084   \n",
       "1          1                2      0.004131      0.311863      0.523216   \n",
       "2          2                0      0.948534      0.030769      0.015206   \n",
       "3          3                0      0.807632      0.003649      0.005369   \n",
       "4          4                2      0.012055      0.000238      0.765452   \n",
       "5          5                1      0.068144      0.391535      0.355511   \n",
       "6          6                3      0.044360      0.293036      0.010861   \n",
       "7          7                4      0.038288      0.001806      0.005622   \n",
       "8          8                0      0.747630      0.000751      0.001381   \n",
       "9          9                4      0.092427      0.048432      0.077133   \n",
       "\n",
       "   prob_class_3  prob_class_4  \n",
       "0      0.394489      0.267486  \n",
       "1      0.007054      0.153736  \n",
       "2      0.001268      0.004223  \n",
       "3      0.147639      0.035711  \n",
       "4      0.119053      0.103202  \n",
       "5      0.184637      0.000173  \n",
       "6      0.647718      0.004026  \n",
       "7      0.158429      0.795854  \n",
       "8      0.012341      0.237897  \n",
       "9      0.054175      0.727834  "
      ]
     },
     "metadata": {},
     "output_type": "display_data"
    }
   ],
   "source": [
    "# Generate predictions on test set\n",
    "print(\"Generating predictions on test set...\")\n",
    "\n",
    "# Predictions\n",
    "test_predictions = best_model.predict(X_test_selected)\n",
    "test_probabilities = best_model.predict_proba(X_test_selected)\n",
    "\n",
    "print(f\"Generated predictions for {len(test_predictions)} test samples\") #type: ignore\n",
    "\n",
    "# Convert back to original labels if necessary\n",
    "if le is not None:\n",
    "    test_predictions_original = le.inverse_transform(test_predictions) #type: ignore\n",
    "    print(f\"Converted predictions back to original labels\")\n",
    "else:\n",
    "    test_predictions_original = test_predictions\n",
    "\n",
    "# Create predictions DataFrame\n",
    "predictions_df = pd.DataFrame({\n",
    "    'sample_id': range(len(test_predictions)), #type: ignore\n",
    "    'predicted_class': test_predictions_original\n",
    "})\n",
    "\n",
    "# Add probability columns\n",
    "for i, class_name in enumerate(np.unique(y_encoded)): #type: ignore\n",
    "    if le is not None:\n",
    "        original_class = le.inverse_transform([class_name])[0]\n",
    "        predictions_df[f'prob_class_{original_class}'] = test_probabilities[:, i] #type: ignore\n",
    "    else:\n",
    "        predictions_df[f'prob_class_{class_name}'] = test_probabilities[:, i] #type: ignore\n",
    "\n",
    "print(\"Prediction distribution:\")\n",
    "print(predictions_df['predicted_class'].value_counts())\n",
    "\n",
    "display(predictions_df.head(10))"
   ]
  },
  {
   "cell_type": "markdown",
   "id": "358bc0a6",
   "metadata": {},
   "source": [
    "## 10. Model Performance Analysis"
   ]
  },
  {
   "cell_type": "code",
   "execution_count": 12,
   "id": "41b54519",
   "metadata": {},
   "outputs": [
    {
     "name": "stdout",
     "output_type": "stream",
     "text": [
      "=== MODEL PERFORMANCE SUMMARY ===\n",
      "Model: LogisticRegression\n",
      "Training Samples: 159\n",
      "Features Used: 1000\n",
      "Training Time: 0:00:00.064464\n",
      "\n",
      "Training Performance:\n",
      "  Accuracy: 1.0000\n",
      "  F1-Score: 1.0000\n",
      "\n",
      "Validation Performance (from model selection):\n",
      "  Accuracy: 0.7500\n",
      "  F1-Score: 0.7535\n",
      "\n",
      "Test Predictions Generated: 39\n",
      "Test Prediction Distribution: {0: 11, 1: 7, 2: 5, 3: 11, 4: 5}\n"
     ]
    }
   ],
   "source": [
    "# Training set performance (for reference)\n",
    "train_predictions = best_model.predict(X_selected)\n",
    "train_accuracy = accuracy_score(y_encoded, train_predictions) #type: ignore\n",
    "train_f1 = f1_score(y_encoded, train_predictions, average='weighted') #type: ignore\n",
    "\n",
    "print(\"=== MODEL PERFORMANCE SUMMARY ===\")\n",
    "print(f\"Model: {type(best_model).__name__}\")\n",
    "print(f\"Training Samples: {X_selected.shape[0]}\")\n",
    "print(f\"Features Used: {X_selected.shape[1]}\")\n",
    "print(f\"Training Time: {training_time}\")\n",
    "print(f\"\\nTraining Performance:\")\n",
    "print(f\"  Accuracy: {train_accuracy:.4f}\")\n",
    "print(f\"  F1-Score: {train_f1:.4f}\")\n",
    "\n",
    "if model_metadata:\n",
    "    print(f\"\\nValidation Performance (from model selection):\")\n",
    "    print(f\"  Accuracy: {model_metadata['validation_accuracy']:.4f}\")\n",
    "    print(f\"  F1-Score: {model_metadata['validation_f1']:.4f}\")\n",
    "\n",
    "print(f\"\\nTest Predictions Generated: {len(test_predictions)}\") #type: ignore\n",
    "print(f\"Test Prediction Distribution: {dict(zip(*np.unique(test_predictions_original, return_counts=True)))}\") #type: ignore"
   ]
  },
  {
   "cell_type": "markdown",
   "id": "716fba02",
   "metadata": {},
   "source": [
    "## 11. Prediction Confidence Analysis"
   ]
  },
  {
   "cell_type": "code",
   "execution_count": 13,
   "id": "d692625d",
   "metadata": {},
   "outputs": [
    {
     "name": "stdout",
     "output_type": "stream",
     "text": [
      "Prediction Confidence Statistics:\n",
      "count    39.000000\n",
      "mean      0.655170\n",
      "std       0.168885\n",
      "min       0.391535\n",
      "25%       0.501195\n",
      "50%       0.684807\n",
      "75%       0.780653\n",
      "max       0.975773\n",
      "dtype: float64\n"
     ]
    },
    {
     "data": {
      "image/png": "[encoded data removed]",
      "text/plain": [
       "<Figure size 1200x500 with 2 Axes>"
      ]
     },
     "metadata": {},
     "output_type": "display_data"
    },
    {
     "name": "stdout",
     "output_type": "stream",
     "text": [
      "\n",
      "Confidence Analysis:\n",
      "High confidence predictions (≥0.9): 2 (5.1%)\n",
      "Low confidence predictions (≤0.6): 16 (41.0%)\n",
      "Medium confidence predictions: 21 (53.8%)\n"
     ]
    }
   ],
   "source": [
    "# Analyze prediction confidence\n",
    "max_probabilities = np.max(test_probabilities, axis=1) #type: ignore\n",
    "confidence_stats = pd.Series(max_probabilities).describe()\n",
    "\n",
    "print(\"Prediction Confidence Statistics:\")\n",
    "print(confidence_stats)\n",
    "\n",
    "# Plot confidence distribution\n",
    "plt.figure(figsize=(12, 5))\n",
    "\n",
    "plt.subplot(1, 2, 1)\n",
    "plt.hist(max_probabilities, bins=30, alpha=0.7, color='skyblue', edgecolor='black')\n",
    "plt.xlabel('Maximum Probability')\n",
    "plt.ylabel('Frequency')\n",
    "plt.title('Distribution of Prediction Confidence')\n",
    "plt.axvline(confidence_stats['mean'], color='red', linestyle='--', label=f'Mean: {confidence_stats[\"mean\"]:.3f}')\n",
    "plt.legend()\n",
    "\n",
    "plt.subplot(1, 2, 2)\n",
    "plt.boxplot(max_probabilities)\n",
    "plt.ylabel('Maximum Probability')\n",
    "plt.title('Prediction Confidence Box Plot')\n",
    "\n",
    "plt.tight_layout()\n",
    "plt.show()\n",
    "\n",
    "# High and low confidence predictions\n",
    "high_confidence_threshold = 0.9\n",
    "low_confidence_threshold = 0.6\n",
    "\n",
    "high_confidence_count = np.sum(max_probabilities >= high_confidence_threshold)\n",
    "low_confidence_count = np.sum(max_probabilities <= low_confidence_threshold)\n",
    "\n",
    "print(f\"\\nConfidence Analysis:\")\n",
    "print(f\"High confidence predictions (≥{high_confidence_threshold}): {high_confidence_count} ({high_confidence_count/len(max_probabilities)*100:.1f}%)\")\n",
    "print(f\"Low confidence predictions (≤{low_confidence_threshold}): {low_confidence_count} ({low_confidence_count/len(max_probabilities)*100:.1f}%)\")\n",
    "print(f\"Medium confidence predictions: {len(max_probabilities) - high_confidence_count - low_confidence_count} ({(len(max_probabilities) - high_confidence_count - low_confidence_count)/len(max_probabilities)*100:.1f}%)\")"
   ]
  },
  {
   "cell_type": "markdown",
   "id": "9de35753",
   "metadata": {},
   "source": [
    "## 12. Save Final Results"
   ]
  },
  {
   "cell_type": "code",
   "execution_count": 14,
   "id": "44f7c16e",
   "metadata": {},
   "outputs": [
    {
     "name": "stdout",
     "output_type": "stream",
     "text": [
      "Test predictions saved to ../data/processed/test_predictions.csv\n",
      "Final model saved as: final_model_logisticregression_20250820_143940.pkl\n",
      "Final model report saved to ../models/final_model_report.json\n"
     ]
    }
   ],
   "source": [
    "# Save predictions\n",
    "predictions_df.to_csv('../data/processed/test_predictions.csv', index=False)\n",
    "print(\"Test predictions saved to ../data/processed/test_predictions.csv\")\n",
    "\n",
    "# Save final model and preprocessing objects\n",
    "model_filename = f\"final_model_{type(best_model).__name__.lower()}_{datetime.now().strftime('%Y%m%d_%H%M%S')}.pkl\"\n",
    "joblib.dump(best_model, f'../models/{model_filename}')\n",
    "joblib.dump(scaler, '../models/final_scaler.pkl')\n",
    "joblib.dump(selector, '../models/final_feature_selector.pkl')\n",
    "\n",
    "if le is not None:\n",
    "    joblib.dump(le, '../models/final_label_encoder.pkl')\n",
    "\n",
    "print(f\"Final model saved as: {model_filename}\")\n",
    "\n",
    "# Create comprehensive model report\n",
    "final_report = {\n",
    "    'model_info': {\n",
    "        'model_name': type(best_model).__name__,\n",
    "        'model_parameters': best_model.get_params(),\n",
    "        'training_date': datetime.now().isoformat(),\n",
    "        'training_time_seconds': training_time.total_seconds()\n",
    "    },\n",
    "    'data_info': {\n",
    "        'training_samples': X_selected.shape[0],\n",
    "        'features_used': X_selected.shape[1],\n",
    "        'total_original_features': X_full.shape[1],\n",
    "        'test_samples': X_test_selected.shape[0], #type: ignore\n",
    "        'target_classes': int(len(np.unique(y_encoded))), #type: ignore\n",
    "        'feature_selection_method': 'SelectKBest with f_classif'\n",
    "    },\n",
    "    'performance': {\n",
    "        'training_accuracy': float(train_accuracy),\n",
    "        'training_f1_weighted': float(train_f1),\n",
    "        'learning_curve_final_train': float(train_mean[-1]),\n",
    "        'learning_curve_final_val': float(val_mean[-1])\n",
    "    },\n",
    "    'predictions': {\n",
    "        'test_samples_predicted': int(len(test_predictions)), #type: ignore\n",
    "        'prediction_distribution': {str(k): int(v) for k, v in zip(*np.unique(test_predictions_original, return_counts=True))}, #type: ignore\n",
    "        'confidence_stats': {\n",
    "            'mean_confidence': float(confidence_stats['mean']),\n",
    "            'std_confidence': float(confidence_stats['std']),\n",
    "            'min_confidence': float(confidence_stats['min']),\n",
    "            'max_confidence': float(confidence_stats['max']),\n",
    "            'high_confidence_count': int(high_confidence_count),\n",
    "            'low_confidence_count': int(low_confidence_count)\n",
    "        }\n",
    "    },\n",
    "    'files_created': {\n",
    "        'model': model_filename,\n",
    "        'scaler': 'final_scaler.pkl',\n",
    "        'feature_selector': 'final_feature_selector.pkl',\n",
    "        'label_encoder': 'final_label_encoder.pkl' if le is not None else None,\n",
    "        'predictions': 'test_predictions.csv',\n",
    "        'feature_importance': 'final_feature_importance.csv' if feature_importance is not None else None\n",
    "    }\n",
    "}\n",
    "\n",
    "# Add feature importance to report if available\n",
    "if feature_importance is not None:\n",
    "    final_report['feature_importance'] = {\n",
    "        'top_10_features': feature_importance.head(10).to_dict('records'),\n",
    "        'importance_stats': {\n",
    "            'mean': float(feature_importance['importance'].mean()),\n",
    "            'std': float(feature_importance['importance'].std()),\n",
    "            'max': float(feature_importance['importance'].max()),\n",
    "            'min': float(feature_importance['importance'].min())\n",
    "        }\n",
    "    }\n",
    "\n",
    "# Save final report\n",
    "with open('../models/final_model_report.json', 'w') as f:\n",
    "    json.dump(final_report, f, indent=2)\n",
    "\n",
    "print(\"Final model report saved to ../models/final_model_report.json\")"
   ]
  },
  {
   "cell_type": "markdown",
   "id": "1dab7eda",
   "metadata": {},
   "source": [
    "## 13. Final Summary"
   ]
  },
  {
   "cell_type": "code",
   "execution_count": 15,
   "id": "3e2d07ce",
   "metadata": {},
   "outputs": [
    {
     "name": "stdout",
     "output_type": "stream",
     "text": [
      "============================================================\n",
      "FINAL MODEL TRAINING COMPLETED SUCCESSFULLY\n",
      "============================================================\n",
      "\n",
      "Model Details:\n",
      "   Type: LogisticRegression\n",
      "   Training Time: 0:00:00.064464\n",
      "   Features Used: 1,000 out of 22,036\n",
      "\n",
      "Performance:\n",
      "   Training Accuracy: 1.0000\n",
      "   Training F1-Score: 1.0000\n",
      "   Validation Accuracy: 0.8117\n",
      "\n",
      "Predictions:\n",
      "   Test Samples: 39\n",
      "   Mean Confidence: 0.655\n",
      "   High Confidence (>=90%): 2 (5.1%)\n",
      "\n",
      "Files Created:\n",
      "   final_model_logisticregression_20250820_143940.pkl\n",
      "   ../models/final_scaler.pkl\n",
      "   ../models/final_feature_selector.pkl\n",
      "   ../models/final_model_report.json\n",
      "   ../data/processed/test_predictions.csv\n",
      "\n",
      "Next Steps:\n",
      "   1. Review prediction results and confidence scores\n",
      "   2. Validate model performance on additional data if available\n",
      "   3. Deploy model for production use\n",
      "   4. Monitor model performance over time\n",
      "   5. Consider retraining with new data\n",
      "============================================================\n",
      "PROJECT COMPLETED SUCCESSFULLY!\n",
      "============================================================\n"
     ]
    }
   ],
   "source": [
    "# Final Summary Report\n",
    "print(\"=\" * 60)\n",
    "print(\"FINAL MODEL TRAINING COMPLETED SUCCESSFULLY\")\n",
    "print(\"=\" * 60)\n",
    "\n",
    "print(f\"\\nModel Details:\")\n",
    "print(f\"   Type: {final_report['model_info']['model_name']}\")\n",
    "print(f\"   Training Time: {training_time}\")\n",
    "print(f\"   Features Used: {final_report['data_info']['features_used']:,} out of {final_report['data_info']['total_original_features']:,}\")\n",
    "\n",
    "print(f\"\\nPerformance:\")\n",
    "print(f\"   Training Accuracy: {final_report['performance']['training_accuracy']:.4f}\")\n",
    "print(f\"   Training F1-Score: {final_report['performance']['training_f1_weighted']:.4f}\")\n",
    "print(f\"   Validation Accuracy: {final_report['performance']['learning_curve_final_val']:.4f}\")\n",
    "\n",
    "print(f\"\\nPredictions:\")\n",
    "print(f\"   Test Samples: {final_report['predictions']['test_samples_predicted']}\")\n",
    "print(f\"   Mean Confidence: {final_report['predictions']['confidence_stats']['mean_confidence']:.3f}\")\n",
    "print(f\"   High Confidence (>=90%): {final_report['predictions']['confidence_stats']['high_confidence_count']} ({final_report['predictions']['confidence_stats']['high_confidence_count']/final_report['predictions']['test_samples_predicted']*100:.1f}%)\")\n",
    "\n",
    "print(f\"\\nFiles Created:\")\n",
    "print(f\"   {final_report['files_created']['model']}\")\n",
    "print(f\"   ../models/{final_report['files_created']['scaler']}\")\n",
    "print(f\"   ../models/{final_report['files_created']['feature_selector']}\")\n",
    "print(f\"   ../models/final_model_report.json\")\n",
    "print(f\"   ../data/processed/{final_report['files_created']['predictions']}\")\n",
    "\n",
    "print(f\"\\nNext Steps:\")\n",
    "print(f\"   1. Review prediction results and confidence scores\")\n",
    "print(f\"   2. Validate model performance on additional data if available\")\n",
    "print(f\"   3. Deploy model for production use\")\n",
    "print(f\"   4. Monitor model performance over time\")\n",
    "print(f\"   5. Consider retraining with new data\")\n",
    "\n",
    "print(\"=\" * 60)\n",
    "print(\"PROJECT COMPLETED SUCCESSFULLY!\")\n",
    "print(\"=\" * 60)"
   ]
  }
 ],
 "metadata": {
  "kernelspec": {
   "display_name": ".venv (3.11.5)",
   "language": "python",
   "name": "python3"
  },
  "language_info": {
   "codemirror_mode": {
    "name": "ipython",
    "version": 3
   },
   "file_extension": ".py",
   "mimetype": "text/x-python",
   "name": "python",
   "nbconvert_exporter": "python",
   "pygments_lexer": "ipython3",
   "version": "3.11.5"
  }
 },
 "nbformat": 4,
 "nbformat_minor": 5
}
